{
 "cells": [
  {
   "cell_type": "code",
   "execution_count": null,
   "metadata": {},
   "outputs": [],
   "source": [
    "import os\n",
    "import numpy as np\n",
    "import pandas as pd\n",
    "from fancyimpute import KNN \n",
    "import seaborn as sns\n",
    "import matplotlib.pyplot as plt"
   ]
  },
  {
   "cell_type": "code",
   "execution_count": null,
   "metadata": {},
   "outputs": [],
   "source": [
    "os.chdir(\"D:\\Edwisor project\\Employee Absenteeism\")"
   ]
  },
  {
   "cell_type": "code",
   "execution_count": null,
   "metadata": {},
   "outputs": [],
   "source": [
    "xls=pd.ExcelFile(\"Absenteeism_at_work_Project.xls\")"
   ]
  },
  {
   "cell_type": "code",
   "execution_count": null,
   "metadata": {},
   "outputs": [],
   "source": [
    "df=xls.parse(\"Absenteeism_at_work\")"
   ]
  },
  {
   "cell_type": "code",
   "execution_count": null,
   "metadata": {},
   "outputs": [],
   "source": [
    "df.info()"
   ]
  },
  {
   "cell_type": "markdown",
   "metadata": {},
   "source": [
    "# Missing Value analysis"
   ]
  },
  {
   "cell_type": "code",
   "execution_count": null,
   "metadata": {},
   "outputs": [],
   "source": [
    "# Create a dataframe with missing value counf for each variable\n",
    "miss_val=pd.DataFrame(df.isnull().sum()).reset_index()\n",
    "\n",
    "# Renaming the variables of columns in the dataframe\n",
    "miss_val=miss_val.rename(columns={'index':'Variable',0:'Missing_Percentage'})\n",
    "\n",
    "miss_val['Missing_Percentage']=(miss_val['Missing_Percentage']/len(df))*100\n",
    "# Soet the value\n",
    "miss_val=miss_val.sort_values('Missing_Percentage',ascending=False).reset_index(drop=True)"
   ]
  },
  {
   "cell_type": "code",
   "execution_count": null,
   "metadata": {},
   "outputs": [],
   "source": [
    "miss_val"
   ]
  },
  {
   "cell_type": "markdown",
   "metadata": {},
   "source": [
    "# Imputation method"
   ]
  },
  {
   "cell_type": "code",
   "execution_count": null,
   "metadata": {},
   "outputs": [],
   "source": [
    "df=df.drop(df[df['Absenteeism time in hours'].isnull()].index,axis=0)\n",
    "df.shape"
   ]
  },
  {
   "cell_type": "code",
   "execution_count": null,
   "metadata": {},
   "outputs": [],
   "source": [
    "# 31.0\n",
    "#26.70 mean\n",
    "# 25 median\n",
    "# 30.99\n",
    "df[\"Body mass index\"].iloc[12]=np.nan"
   ]
  },
  {
   "cell_type": "code",
   "execution_count": null,
   "metadata": {},
   "outputs": [],
   "source": [
    "# Impute missing value with mea,mediuan and KNN method\n",
    "df[\"Body mass index\"]=df[\"Body mass index\"].fillna(df[\"Body mass index\"].mean())"
   ]
  },
  {
   "cell_type": "code",
   "execution_count": null,
   "metadata": {},
   "outputs": [],
   "source": [
    "df[\"Body mass index\"]=df[\"Body mass index\"].fillna(df[\"Body mass index\"].median())"
   ]
  },
  {
   "cell_type": "code",
   "execution_count": null,
   "metadata": {},
   "outputs": [],
   "source": [
    "df=pd.DataFrame(KNN(k=3).complete(df),columns = df.columns)"
   ]
  },
  {
   "cell_type": "code",
   "execution_count": null,
   "metadata": {},
   "outputs": [],
   "source": [
    "df[\"Body mass index\"].iloc[12]"
   ]
  },
  {
   "cell_type": "code",
   "execution_count": null,
   "metadata": {},
   "outputs": [],
   "source": [
    "# Convert the variable to category\n",
    "categorical_vars = ['ID','Reason for absence','Month of absence','Day of the week',\n",
    "                     'Seasons','Disciplinary failure', 'Education', 'Social drinker',\n",
    "                     'Social smoker', 'Pet', 'Son']\n",
    "for var in categorical_vars:\n",
    "    df[var]=df[var].astype('int').astype('object',copy=False)"
   ]
  },
  {
   "cell_type": "code",
   "execution_count": null,
   "metadata": {},
   "outputs": [],
   "source": [
    "df2=df.copy()"
   ]
  },
  {
   "cell_type": "code",
   "execution_count": null,
   "metadata": {},
   "outputs": [],
   "source": [
    "# Box plot o visualize the number of ouliers\n",
    "num_df=df._get_numeric_data()\n",
    "for i in num_df.columns:\n",
    "     print(i)\n",
    "     if(i !=\"Absenteeism time in hours\"):\n",
    "        df.boxplot(column=i,by='Absenteeism time in hours')"
   ]
  },
  {
   "cell_type": "code",
   "execution_count": null,
   "metadata": {},
   "outputs": [],
   "source": [
    "import seaborn as sns"
   ]
  },
  {
   "cell_type": "code",
   "execution_count": null,
   "metadata": {},
   "outputs": [],
   "source": [
    "df.isnull().sum().sum()"
   ]
  },
  {
   "cell_type": "markdown",
   "metadata": {},
   "source": [
    "# Feature Selection \n"
   ]
  },
  {
   "cell_type": "code",
   "execution_count": null,
   "metadata": {},
   "outputs": [],
   "source": [
    "import seaborn as sns\n",
    "##Correlation analysis for continuous variables\n",
    "#Correlation plot\n",
    "f,ax=plt.subplots(figsize=[10,8])\n",
    "corr_data=num_df.corr()\n",
    "sns.heatmap(corr_data,mask=np.zeros_like(corr_data,dtype=np.bool),cmap=sns.diverging_palette(220,10,as_cmap=True),\n",
    "           square=True,ax=ax,annot = True)\n"
   ]
  },
  {
   "cell_type": "code",
   "execution_count": null,
   "metadata": {},
   "outputs": [],
   "source": [
    "df.columns = df.columns.str.replace(' ', '_')"
   ]
  },
  {
   "cell_type": "code",
   "execution_count": null,
   "metadata": {},
   "outputs": [],
   "source": [
    "# Convert the variable to category\n",
    "categorical_vars = ['ID','Reason_for_absence','Month_of_absence','Day_of_the_week',\n",
    "                     'Seasons','Disciplinary_failure', 'Education', 'Social_drinker',\n",
    "                     'Social_smoker', 'Pet', 'Son']\n",
    "for var in categorical_vars:\n",
    "    df[var]=df[var].astype('int').astype('object',copy=False)"
   ]
  },
  {
   "cell_type": "code",
   "execution_count": null,
   "metadata": {},
   "outputs": [],
   "source": [
    "num_df=df._get_numeric_data()\n",
    "cols=list(set(df.columns) - set(num_df.columns))"
   ]
  },
  {
   "cell_type": "code",
   "execution_count": null,
   "metadata": {},
   "outputs": [],
   "source": [
    "num_df.columns"
   ]
  },
  {
   "cell_type": "code",
   "execution_count": null,
   "metadata": {},
   "outputs": [],
   "source": [
    "from statsmodels.formula.api import ols\n",
    "import statsmodels.api as sm\n",
    "for col in cols:\n",
    "    results = ols('Absenteeism_time_in_hours~'+col, data=df).fit()\n",
    "    print(sm.stats.anova_lm(results, typ=2))"
   ]
  },
  {
   "cell_type": "code",
   "execution_count": null,
   "metadata": {},
   "outputs": [],
   "source": [
    "df=df.drop([\"ID\",\"Age\",\"Month_of_absence\",\"Disciplinary_failure\",\"Seasons\",\"Education\",\"Pet\",\"Social_smoker\",\"Social_drinker\",\"Weight\",\"Height\"],axis = 1)"
   ]
  },
  {
   "cell_type": "code",
   "execution_count": null,
   "metadata": {},
   "outputs": [],
   "source": [
    "df.shape"
   ]
  },
  {
   "cell_type": "markdown",
   "metadata": {},
   "source": [
    "# Feature Scaling"
   ]
  },
  {
   "cell_type": "code",
   "execution_count": null,
   "metadata": {},
   "outputs": [],
   "source": [
    "# Code to plot the histogram for all the numeric variables\n",
    "num_df=df._get_numeric_data()\n",
    "for i, col in enumerate(num_df.columns):\n",
    "    if col != \"Absenteeism time in hours\":\n",
    "        plt.figure(i)\n",
    "        sns.distplot(num_df[col])\n",
    "        plt.title(\"Checking Distribution for Variable \"+col)"
   ]
  },
  {
   "cell_type": "code",
   "execution_count": null,
   "metadata": {},
   "outputs": [],
   "source": [
    "# Since there is no normally distributed curve we will use Normalizationg for Feature Scalling\n",
    "# #Normalization\n",
    "for i in num_df.columns:\n",
    "    print(i)\n",
    "    df[i]=(df[i]-min(df[i]))/(max(df[i])-min(df[i]))"
   ]
  },
  {
   "cell_type": "markdown",
   "metadata": {},
   "source": [
    "# Data Modeling"
   ]
  },
  {
   "cell_type": "code",
   "execution_count": null,
   "metadata": {},
   "outputs": [],
   "source": [
    "from sklearn.tree import DecisionTreeRegressor\n",
    "from sklearn.metrics import mean_squared_error\n",
    "from sklearn.model_selection import train_test_split\n",
    "from sklearn.metrics import r2_score\n",
    "train,test = train_test_split( df, test_size = 0.20)"
   ]
  },
  {
   "cell_type": "code",
   "execution_count": null,
   "metadata": {},
   "outputs": [],
   "source": [
    "# Building model on top of training dataset\n",
    "fit_DT = DecisionTreeRegressor(max_depth=3).fit(train.iloc[:,0:9],train.iloc[:,9])\n",
    "\n",
    "# Calculating RMSE for test data to check accuracy\n",
    "pred_test = fit_DT.predict(test.iloc[:,0:9])\n",
    "rmse_for_test =np.sqrt(mean_squared_error(test.iloc[:,9],pred_test))\n",
    "print(\"Root Mean Squared Error For Test data = \"+str(rmse_for_test))\n",
    "print(\"R^2 Score(coefficient of determination) = \"+str(r2_score(test.iloc[:,9],pred_test)))"
   ]
  },
  {
   "cell_type": "code",
   "execution_count": null,
   "metadata": {},
   "outputs": [],
   "source": [
    "df.dtypes"
   ]
  },
  {
   "cell_type": "markdown",
   "metadata": {},
   "source": [
    "# Linear Regession"
   ]
  },
  {
   "cell_type": "code",
   "execution_count": null,
   "metadata": {},
   "outputs": [],
   "source": [
    "LRMod=sm.OLS(train.iloc[:,9],(train.iloc[:,0:9]).astype(float)).fit()\n",
    "LRMod.summary()"
   ]
  },
  {
   "cell_type": "code",
   "execution_count": null,
   "metadata": {},
   "outputs": [],
   "source": [
    "# Calculating RMSE for test data to check accuracy\n",
    "pred_test = LRMod.predict((test.iloc[:,0:9]).astype(float))\n",
    "rmse_for_test =np.sqrt(mean_squared_error(test.iloc[:,9],pred_test))\n",
    "\n",
    "print(\"Root Mean Squared Error For Test data = \"+str(rmse_for_test))\n",
    "print(\"R^2 Score(coefficient of determination) = \"+str(r2_score(test.iloc[:,9],pred_test)))\n",
    "#Root Mean Squared Error: 0.10079798693175389\n",
    "# R^2 Score 0.0889341369651181"
   ]
  },
  {
   "cell_type": "code",
   "execution_count": null,
   "metadata": {},
   "outputs": [],
   "source": [
    "num_df=df._get_numeric_data()\n",
    "cols=list(set(df.columns) - set(num_df.columns))"
   ]
  },
  {
   "cell_type": "code",
   "execution_count": null,
   "metadata": {},
   "outputs": [],
   "source": [
    "df_logit=pd.DataFrame()\n",
    "df_logit=pd.get_dummies(data = df, columns = cols)"
   ]
  },
  {
   "cell_type": "code",
   "execution_count": null,
   "metadata": {},
   "outputs": [],
   "source": [
    "cols = list(df_logit)\n",
    "cols.insert(0, cols.pop(cols.index('Absenteeism_time_in_hours')))\n",
    "df_logit = df_logit.ix[:, cols]\n"
   ]
  },
  {
   "cell_type": "code",
   "execution_count": null,
   "metadata": {},
   "outputs": [],
   "source": [
    "train,test = train_test_split( df_logit, test_size = 0.20)\n",
    "LRMod=sm.OLS(train.iloc[:,0],train.iloc[:,1:45]).fit()\n",
    "LRMod.summary()"
   ]
  },
  {
   "cell_type": "code",
   "execution_count": null,
   "metadata": {},
   "outputs": [],
   "source": [
    "pred_test = LRMod.predict((test.iloc[:,1:45]))\n",
    "rmse_for_test =np.sqrt(mean_squared_error(test.iloc[:,0],pred_test))\n",
    "\n",
    "print(\"Root Mean Squared Error For Test data = \"+str(rmse_for_test))\n",
    "print(\"R^2 Score(coefficient of determination) = \"+str(r2_score(test.iloc[:,0],pred_test)))"
   ]
  },
  {
   "cell_type": "markdown",
   "metadata": {},
   "source": [
    "# Random Forest Regression"
   ]
  },
  {
   "cell_type": "code",
   "execution_count": null,
   "metadata": {},
   "outputs": [],
   "source": [
    "from sklearn.ensemble import RandomForestRegressor\n",
    "\n",
    "# Building model on top of training dataset\n",
    "fit_RF = RandomForestRegressor(n_estimators = 300).fit(train.iloc[:,0:9],train.iloc[:,9])\n",
    "\n",
    "\n",
    "# Calculating RMSE for test data to check accuracy\n",
    "pred_test = fit_RF.predict(test.iloc[:,0:9])\n",
    "rmse_for_test =np.sqrt(mean_squared_error(test.iloc[:,9],pred_test))\n",
    "\n",
    "print(\"Root Mean Squared Error For Test data = \"+str(rmse_for_test))\n",
    "print(\"R^2 Score(coefficient of determination) = \"+str(r2_score(test.iloc[:,9],pred_test)))\n",
    "# Root Mean Squared Error For Test data = 0.11950567245732827\n",
    "# R^2 Score(coefficient of determination) = -0.021281881939122504"
   ]
  },
  {
   "cell_type": "code",
   "execution_count": null,
   "metadata": {},
   "outputs": [],
   "source": [
    "df2.info()"
   ]
  },
  {
   "cell_type": "code",
   "execution_count": null,
   "metadata": {},
   "outputs": [],
   "source": [
    "loss = df2[['Month of absence','Service time','Work load Average/day ','Absenteeism time in hours']]\n",
    "loss[\"loss_month\"] = (loss['Work load Average/day ']*loss['Absenteeism time in hours'])/loss['Service time']\n",
    "loss[\"loss_month\"] = np.round(loss[\"loss_month\"]).astype('int64')\n",
    "monthLoss={}\n",
    "for i in range(1,13):\n",
    "    monthLoss[i]=loss[loss['Month of absence'] == i]['loss_month'].sum()"
   ]
  },
  {
   "cell_type": "code",
   "execution_count": null,
   "metadata": {},
   "outputs": [],
   "source": [
    "monthLoss"
   ]
  }
 ],
 "metadata": {
  "kernelspec": {
   "display_name": "Python 3",
   "language": "python",
   "name": "python3"
  },
  "language_info": {
   "codemirror_mode": {
    "name": "ipython",
    "version": 3
   },
   "file_extension": ".py",
   "mimetype": "text/x-python",
   "name": "python",
   "nbconvert_exporter": "python",
   "pygments_lexer": "ipython3",
   "version": "3.6.4"
  }
 },
 "nbformat": 4,
 "nbformat_minor": 2
}
